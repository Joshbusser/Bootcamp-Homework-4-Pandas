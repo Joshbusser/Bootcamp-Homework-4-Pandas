{
 "cells": [
  {
   "cell_type": "markdown",
   "metadata": {},
   "source": [
    "### Heroes Of Pymoli Data Analysis\n",
    "* Of the 1163 active players, the vast majority are male (84%). There also exists, a smaller, but notable proportion of female players (14%).\n",
    "\n",
    "* Our peak age demographic falls between 20-24 (44.8%) with secondary groups falling between 15-19 (18.60%) and 25-29 (13.4%).  \n",
    "-----"
   ]
  },
  {
   "cell_type": "markdown",
   "metadata": {},
   "source": [
    "### Note\n",
    "* Instructions have been included for each segment. You do not have to follow them exactly, but they are included to help you think through the steps."
   ]
  },
  {
   "cell_type": "code",
   "execution_count": 6,
   "metadata": {},
   "outputs": [],
   "source": [
    "# Dependencies and Setup\n",
    "import pandas as pd\n",
    "import numpy as np\n",
    "\n",
    "# File to Load (Remember to Change These)\n",
    "file_to_load = \"Resources/purchase_data.csv\"\n",
    "\n",
    "# Read Purchasing File and store into Pandas data frame\n",
    "purchase_data = pd.read_csv(file_to_load)"
   ]
  },
  {
   "cell_type": "markdown",
   "metadata": {},
   "source": [
    "## Player Count"
   ]
  },
  {
   "cell_type": "markdown",
   "metadata": {},
   "source": [
    "* Display the total number of players\n"
   ]
  },
  {
   "cell_type": "code",
   "execution_count": 7,
   "metadata": {},
   "outputs": [
    {
     "data": {
      "text/html": [
       "<div>\n",
       "<style scoped>\n",
       "    .dataframe tbody tr th:only-of-type {\n",
       "        vertical-align: middle;\n",
       "    }\n",
       "\n",
       "    .dataframe tbody tr th {\n",
       "        vertical-align: top;\n",
       "    }\n",
       "\n",
       "    .dataframe thead th {\n",
       "        text-align: right;\n",
       "    }\n",
       "</style>\n",
       "<table border=\"1\" class=\"dataframe\">\n",
       "  <thead>\n",
       "    <tr style=\"text-align: right;\">\n",
       "      <th></th>\n",
       "      <th>Total Players</th>\n",
       "    </tr>\n",
       "  </thead>\n",
       "  <tbody>\n",
       "    <tr>\n",
       "      <th>0</th>\n",
       "      <td>576</td>\n",
       "    </tr>\n",
       "  </tbody>\n",
       "</table>\n",
       "</div>"
      ],
      "text/plain": [
       "   Total Players\n",
       "0            576"
      ]
     },
     "execution_count": 7,
     "metadata": {},
     "output_type": "execute_result"
    }
   ],
   "source": [
    "Total_players = len(purchase_data[\"SN\"].value_counts())\n",
    "data=[{'Total Players': Total_players}]\n",
    "Total_Table = pd.DataFrame(data, columns = ['Total Players'])\n",
    "Total_Table\n",
    "\n"
   ]
  },
  {
   "cell_type": "markdown",
   "metadata": {},
   "source": [
    "## Purchasing Analysis (Total)"
   ]
  },
  {
   "cell_type": "markdown",
   "metadata": {},
   "source": [
    "* Run basic calculations to obtain number of unique items, average price, etc.\n",
    "\n",
    "\n",
    "* Create a summary data frame to hold the results\n",
    "\n",
    "\n",
    "* Optional: give the displayed data cleaner formatting\n",
    "\n",
    "\n",
    "* Display the summary data frame\n"
   ]
  },
  {
   "cell_type": "code",
   "execution_count": 8,
   "metadata": {
    "scrolled": true
   },
   "outputs": [
    {
     "data": {
      "text/html": [
       "<style  type=\"text/css\" >\n",
       "</style><table id=\"T_a7c5c690_97ce_11e9_ac80_dca2662ce228\" ><thead>    <tr>        <th class=\"blank level0\" ></th>        <th class=\"col_heading level0 col0\" >Number of Unique Items</th>        <th class=\"col_heading level0 col1\" >Average Price</th>        <th class=\"col_heading level0 col2\" >Number of Purchases</th>        <th class=\"col_heading level0 col3\" >Total Revenue</th>    </tr></thead><tbody>\n",
       "                <tr>\n",
       "                        <th id=\"T_a7c5c690_97ce_11e9_ac80_dca2662ce228level0_row0\" class=\"row_heading level0 row0\" >0</th>\n",
       "                        <td id=\"T_a7c5c690_97ce_11e9_ac80_dca2662ce228row0_col0\" class=\"data row0 col0\" >183</td>\n",
       "                        <td id=\"T_a7c5c690_97ce_11e9_ac80_dca2662ce228row0_col1\" class=\"data row0 col1\" >$3.05</td>\n",
       "                        <td id=\"T_a7c5c690_97ce_11e9_ac80_dca2662ce228row0_col2\" class=\"data row0 col2\" ><bound method Series.count of 0        0\n",
       "1        1\n",
       "2        2\n",
       "3        3\n",
       "4        4\n",
       "5        5\n",
       "6        6\n",
       "7        7\n",
       "8        8\n",
       "9        9\n",
       "10      10\n",
       "11      11\n",
       "12      12\n",
       "13      13\n",
       "14      14\n",
       "15      15\n",
       "16      16\n",
       "17      17\n",
       "18      18\n",
       "19      19\n",
       "20      20\n",
       "21      21\n",
       "22      22\n",
       "23      23\n",
       "24      24\n",
       "25      25\n",
       "26      26\n",
       "27      27\n",
       "28      28\n",
       "29      29\n",
       "      ... \n",
       "750    750\n",
       "751    751\n",
       "752    752\n",
       "753    753\n",
       "754    754\n",
       "755    755\n",
       "756    756\n",
       "757    757\n",
       "758    758\n",
       "759    759\n",
       "760    760\n",
       "761    761\n",
       "762    762\n",
       "763    763\n",
       "764    764\n",
       "765    765\n",
       "766    766\n",
       "767    767\n",
       "768    768\n",
       "769    769\n",
       "770    770\n",
       "771    771\n",
       "772    772\n",
       "773    773\n",
       "774    774\n",
       "775    775\n",
       "776    776\n",
       "777    777\n",
       "778    778\n",
       "779    779\n",
       "Name: Purchase ID, Length: 780, dtype: int64></td>\n",
       "                        <td id=\"T_a7c5c690_97ce_11e9_ac80_dca2662ce228row0_col3\" class=\"data row0 col3\" >$2,379.77</td>\n",
       "            </tr>\n",
       "    </tbody></table>"
      ],
      "text/plain": [
       "<pandas.io.formats.style.Styler at 0x1d7f8209320>"
      ]
     },
     "execution_count": 8,
     "metadata": {},
     "output_type": "execute_result"
    }
   ],
   "source": [
    "uniqueItems = len((purchase_data[\"Item ID\"]).unique())\n",
    "average_price = (purchase_data[\"Price\"]).mean()\n",
    "number_purchases = (purchase_data[\"Purchase ID\"]).count\n",
    "total_revenue = (purchase_data[\"Price\"]).sum()\n",
    "\n",
    "PA_df = pd.DataFrame({\"Number of Unique Items\":[uniqueItems],\n",
    "                     \"Average Price\":[average_price],\n",
    "                     \"Number of Purchases\":[number_purchases],\n",
    "                     \"Total Revenue\":[total_revenue]})\n",
    "\n",
    "PA_df.style.format({'Average Price':\"${:,.2f}\",\n",
    "                      'Total Revenue': '${:,.2f}'})\n",
    "\n"
   ]
  },
  {
   "cell_type": "markdown",
   "metadata": {},
   "source": [
    "## Gender Demographics"
   ]
  },
  {
   "cell_type": "markdown",
   "metadata": {},
   "source": [
    "* Percentage and Count of Male Players\n",
    "\n",
    "\n",
    "* Percentage and Count of Female Players\n",
    "\n",
    "\n",
    "* Percentage and Count of Other / Non-Disclosed\n",
    "\n",
    "\n"
   ]
  },
  {
   "cell_type": "code",
   "execution_count": 9,
   "metadata": {},
   "outputs": [
    {
     "data": {
      "text/html": [
       "<style  type=\"text/css\" >\n",
       "</style><table id=\"T_a8869f06_97ce_11e9_a8dc_dca2662ce228\" ><thead>    <tr>        <th class=\"blank level0\" ></th>        <th class=\"col_heading level0 col0\" >Percentage of Players</th>        <th class=\"col_heading level0 col1\" >Total Count</th>    </tr></thead><tbody>\n",
       "                <tr>\n",
       "                        <th id=\"T_a8869f06_97ce_11e9_a8dc_dca2662ce228level0_row0\" class=\"row_heading level0 row0\" >Male</th>\n",
       "                        <td id=\"T_a8869f06_97ce_11e9_a8dc_dca2662ce228row0_col0\" class=\"data row0 col0\" >84.03</td>\n",
       "                        <td id=\"T_a8869f06_97ce_11e9_a8dc_dca2662ce228row0_col1\" class=\"data row0 col1\" >484</td>\n",
       "            </tr>\n",
       "            <tr>\n",
       "                        <th id=\"T_a8869f06_97ce_11e9_a8dc_dca2662ce228level0_row1\" class=\"row_heading level0 row1\" >Female</th>\n",
       "                        <td id=\"T_a8869f06_97ce_11e9_a8dc_dca2662ce228row1_col0\" class=\"data row1 col0\" >14.06</td>\n",
       "                        <td id=\"T_a8869f06_97ce_11e9_a8dc_dca2662ce228row1_col1\" class=\"data row1 col1\" >81</td>\n",
       "            </tr>\n",
       "            <tr>\n",
       "                        <th id=\"T_a8869f06_97ce_11e9_a8dc_dca2662ce228level0_row2\" class=\"row_heading level0 row2\" >Other / Non-Disclosed</th>\n",
       "                        <td id=\"T_a8869f06_97ce_11e9_a8dc_dca2662ce228row2_col0\" class=\"data row2 col0\" >1.91</td>\n",
       "                        <td id=\"T_a8869f06_97ce_11e9_a8dc_dca2662ce228row2_col1\" class=\"data row2 col1\" >11</td>\n",
       "            </tr>\n",
       "    </tbody></table>"
      ],
      "text/plain": [
       "<pandas.io.formats.style.Styler at 0x1d7f74d1860>"
      ]
     },
     "execution_count": 9,
     "metadata": {},
     "output_type": "execute_result"
    }
   ],
   "source": [
    "gender_stats = purchase_data.groupby(\"Gender\")\n",
    "\n",
    "total_gender = gender_stats.nunique()[\"SN\"]\n",
    "\n",
    "percentage_of_players = total_gender / Total_players * 100\n",
    "\n",
    "gender_demographics = pd.DataFrame({\"Percentage of Players\": percentage_of_players, \"Total Count\": total_gender})\n",
    "                                    \n",
    "gender_demographics.index.name = None\n",
    "\n",
    "gender_demographics.sort_values([\"Total Count\"], ascending = False).style.format({\"Percentage of Players\":\"{:.2f}\"})\n",
    "                                    "
   ]
  },
  {
   "cell_type": "markdown",
   "metadata": {},
   "source": [
    "\n",
    "## Purchasing Analysis (Gender)"
   ]
  },
  {
   "cell_type": "markdown",
   "metadata": {},
   "source": [
    "* Run basic calculations to obtain purchase count, avg. purchase price, avg. purchase total per person etc. by gender\n",
    "\n",
    "\n",
    "\n",
    "\n",
    "* Create a summary data frame to hold the results\n",
    "\n",
    "\n",
    "* Optional: give the displayed data cleaner formatting\n",
    "\n",
    "\n",
    "* Display the summary data frame"
   ]
  },
  {
   "cell_type": "code",
   "execution_count": 13,
   "metadata": {},
   "outputs": [
    {
     "data": {
      "text/html": [
       "<style  type=\"text/css\" >\n",
       "</style><table id=\"T_0a86247a_97cf_11e9_9293_dca2662ce228\" ><thead>    <tr>        <th class=\"blank level0\" ></th>        <th class=\"col_heading level0 col0\" >Purchase Count</th>        <th class=\"col_heading level0 col1\" >Average Purchase Price</th>        <th class=\"col_heading level0 col2\" >Average Purchase Value</th>        <th class=\"col_heading level0 col3\" >Avg Purchase Total per Person</th>    </tr>    <tr>        <th class=\"index_name level0\" >Gender</th>        <th class=\"blank\" ></th>        <th class=\"blank\" ></th>        <th class=\"blank\" ></th>        <th class=\"blank\" ></th>    </tr></thead><tbody>\n",
       "                <tr>\n",
       "                        <th id=\"T_0a86247a_97cf_11e9_9293_dca2662ce228level0_row0\" class=\"row_heading level0 row0\" >Female</th>\n",
       "                        <td id=\"T_0a86247a_97cf_11e9_9293_dca2662ce228row0_col0\" class=\"data row0 col0\" >113</td>\n",
       "                        <td id=\"T_0a86247a_97cf_11e9_9293_dca2662ce228row0_col1\" class=\"data row0 col1\" >$3.20</td>\n",
       "                        <td id=\"T_0a86247a_97cf_11e9_9293_dca2662ce228row0_col2\" class=\"data row0 col2\" >$361.94</td>\n",
       "                        <td id=\"T_0a86247a_97cf_11e9_9293_dca2662ce228row0_col3\" class=\"data row0 col3\" >$4.47</td>\n",
       "            </tr>\n",
       "            <tr>\n",
       "                        <th id=\"T_0a86247a_97cf_11e9_9293_dca2662ce228level0_row1\" class=\"row_heading level0 row1\" >Male</th>\n",
       "                        <td id=\"T_0a86247a_97cf_11e9_9293_dca2662ce228row1_col0\" class=\"data row1 col0\" >652</td>\n",
       "                        <td id=\"T_0a86247a_97cf_11e9_9293_dca2662ce228row1_col1\" class=\"data row1 col1\" >$3.02</td>\n",
       "                        <td id=\"T_0a86247a_97cf_11e9_9293_dca2662ce228row1_col2\" class=\"data row1 col2\" >$1,967.64</td>\n",
       "                        <td id=\"T_0a86247a_97cf_11e9_9293_dca2662ce228row1_col3\" class=\"data row1 col3\" >$4.07</td>\n",
       "            </tr>\n",
       "            <tr>\n",
       "                        <th id=\"T_0a86247a_97cf_11e9_9293_dca2662ce228level0_row2\" class=\"row_heading level0 row2\" >Other / Non-Disclosed</th>\n",
       "                        <td id=\"T_0a86247a_97cf_11e9_9293_dca2662ce228row2_col0\" class=\"data row2 col0\" >15</td>\n",
       "                        <td id=\"T_0a86247a_97cf_11e9_9293_dca2662ce228row2_col1\" class=\"data row2 col1\" >$3.35</td>\n",
       "                        <td id=\"T_0a86247a_97cf_11e9_9293_dca2662ce228row2_col2\" class=\"data row2 col2\" >$50.19</td>\n",
       "                        <td id=\"T_0a86247a_97cf_11e9_9293_dca2662ce228row2_col3\" class=\"data row2 col3\" >$4.56</td>\n",
       "            </tr>\n",
       "    </tbody></table>"
      ],
      "text/plain": [
       "<pandas.io.formats.style.Styler at 0x1d7f74d1f60>"
      ]
     },
     "execution_count": 13,
     "metadata": {},
     "output_type": "execute_result"
    }
   ],
   "source": [
    "purchase_count = gender_stats[\"Purchase ID\"].count()\n",
    "\n",
    "avg_price = gender_stats[\"Price\"].mean()\n",
    "\n",
    "avg_total = gender_stats[\"Price\"].sum()\n",
    "\n",
    "avg_per_person = avg_total / total_gender\n",
    "\n",
    "gender_demographics = pd.DataFrame({\"Purchase Count\": purchase_count, \n",
    "                                    \"Average Purchase Price\": avg_price,\n",
    "                                    \"Average Purchase Value\":avg_total,\n",
    "                                    \"Avg Purchase Total per Person\": avg_per_person})\n",
    "\n",
    "gender_demographics.index.name = \"Gender\"\n",
    "\n",
    "gender_demographics.style.format({\"Average Purchase Value\":\"${:,.2f}\",\n",
    "                                  \"Average Purchase Price\":\"${:,.2f}\",\n",
    "                                  \"Avg Purchase Total per Person\":\"${:,.2f}\"})"
   ]
  },
  {
   "cell_type": "markdown",
   "metadata": {},
   "source": [
    "## Age Demographics"
   ]
  },
  {
   "cell_type": "markdown",
   "metadata": {},
   "source": [
    "* Establish bins for ages\n",
    "\n",
    "\n",
    "* Categorize the existing players using the age bins. Hint: use pd.cut()\n",
    "\n",
    "\n",
    "* Calculate the numbers and percentages by age group\n",
    "\n",
    "\n",
    "* Create a summary data frame to hold the results\n",
    "\n",
    "\n",
    "* Optional: round the percentage column to two decimal points\n",
    "\n",
    "\n",
    "* Display Age Demographics Table\n"
   ]
  },
  {
   "cell_type": "code",
   "execution_count": 15,
   "metadata": {},
   "outputs": [
    {
     "data": {
      "text/html": [
       "<style  type=\"text/css\" >\n",
       "</style><table id=\"T_d6eccd06_97cf_11e9_883c_dca2662ce228\" ><thead>    <tr>        <th class=\"blank level0\" ></th>        <th class=\"col_heading level0 col0\" >Percentage of Players</th>        <th class=\"col_heading level0 col1\" >Total Count</th>    </tr></thead><tbody>\n",
       "                <tr>\n",
       "                        <th id=\"T_d6eccd06_97cf_11e9_883c_dca2662ce228level0_row0\" class=\"row_heading level0 row0\" ><10</th>\n",
       "                        <td id=\"T_d6eccd06_97cf_11e9_883c_dca2662ce228row0_col0\" class=\"data row0 col0\" >2.95</td>\n",
       "                        <td id=\"T_d6eccd06_97cf_11e9_883c_dca2662ce228row0_col1\" class=\"data row0 col1\" >17</td>\n",
       "            </tr>\n",
       "            <tr>\n",
       "                        <th id=\"T_d6eccd06_97cf_11e9_883c_dca2662ce228level0_row1\" class=\"row_heading level0 row1\" >10-14</th>\n",
       "                        <td id=\"T_d6eccd06_97cf_11e9_883c_dca2662ce228row1_col0\" class=\"data row1 col0\" >3.82</td>\n",
       "                        <td id=\"T_d6eccd06_97cf_11e9_883c_dca2662ce228row1_col1\" class=\"data row1 col1\" >22</td>\n",
       "            </tr>\n",
       "            <tr>\n",
       "                        <th id=\"T_d6eccd06_97cf_11e9_883c_dca2662ce228level0_row2\" class=\"row_heading level0 row2\" >15-19</th>\n",
       "                        <td id=\"T_d6eccd06_97cf_11e9_883c_dca2662ce228row2_col0\" class=\"data row2 col0\" >18.58</td>\n",
       "                        <td id=\"T_d6eccd06_97cf_11e9_883c_dca2662ce228row2_col1\" class=\"data row2 col1\" >107</td>\n",
       "            </tr>\n",
       "            <tr>\n",
       "                        <th id=\"T_d6eccd06_97cf_11e9_883c_dca2662ce228level0_row3\" class=\"row_heading level0 row3\" >20-24</th>\n",
       "                        <td id=\"T_d6eccd06_97cf_11e9_883c_dca2662ce228row3_col0\" class=\"data row3 col0\" >44.79</td>\n",
       "                        <td id=\"T_d6eccd06_97cf_11e9_883c_dca2662ce228row3_col1\" class=\"data row3 col1\" >258</td>\n",
       "            </tr>\n",
       "            <tr>\n",
       "                        <th id=\"T_d6eccd06_97cf_11e9_883c_dca2662ce228level0_row4\" class=\"row_heading level0 row4\" >25-29</th>\n",
       "                        <td id=\"T_d6eccd06_97cf_11e9_883c_dca2662ce228row4_col0\" class=\"data row4 col0\" >13.37</td>\n",
       "                        <td id=\"T_d6eccd06_97cf_11e9_883c_dca2662ce228row4_col1\" class=\"data row4 col1\" >77</td>\n",
       "            </tr>\n",
       "            <tr>\n",
       "                        <th id=\"T_d6eccd06_97cf_11e9_883c_dca2662ce228level0_row5\" class=\"row_heading level0 row5\" >30-34</th>\n",
       "                        <td id=\"T_d6eccd06_97cf_11e9_883c_dca2662ce228row5_col0\" class=\"data row5 col0\" >9.03</td>\n",
       "                        <td id=\"T_d6eccd06_97cf_11e9_883c_dca2662ce228row5_col1\" class=\"data row5 col1\" >52</td>\n",
       "            </tr>\n",
       "            <tr>\n",
       "                        <th id=\"T_d6eccd06_97cf_11e9_883c_dca2662ce228level0_row6\" class=\"row_heading level0 row6\" >35-39</th>\n",
       "                        <td id=\"T_d6eccd06_97cf_11e9_883c_dca2662ce228row6_col0\" class=\"data row6 col0\" >5.38</td>\n",
       "                        <td id=\"T_d6eccd06_97cf_11e9_883c_dca2662ce228row6_col1\" class=\"data row6 col1\" >31</td>\n",
       "            </tr>\n",
       "            <tr>\n",
       "                        <th id=\"T_d6eccd06_97cf_11e9_883c_dca2662ce228level0_row7\" class=\"row_heading level0 row7\" >40+</th>\n",
       "                        <td id=\"T_d6eccd06_97cf_11e9_883c_dca2662ce228row7_col0\" class=\"data row7 col0\" >2.08</td>\n",
       "                        <td id=\"T_d6eccd06_97cf_11e9_883c_dca2662ce228row7_col1\" class=\"data row7 col1\" >12</td>\n",
       "            </tr>\n",
       "    </tbody></table>"
      ],
      "text/plain": [
       "<pandas.io.formats.style.Styler at 0x1d7f7fbee10>"
      ]
     },
     "execution_count": 15,
     "metadata": {},
     "output_type": "execute_result"
    }
   ],
   "source": [
    "#make bins\n",
    "age_bins = [0, 9.90, 14.90, 19.90, 24.90, 29.90, 34.90, 39.90, 99999]\n",
    "group_names = [\"<10\", \"10-14\", \"15-19\", \"20-24\", \"25-29\", \"30-34\", \"35-39\", \"40+\"]\n",
    "#sort into bins\n",
    "purchase_data[\"Age Group\"] = pd.cut(purchase_data[\"Age\"],age_bins, labels=group_names)\n",
    "purchase_data\n",
    "\n",
    "age_grouped = purchase_data.groupby(\"Age Group\")\n",
    "\n",
    "total_count_age = age_grouped[\"SN\"].nunique()\n",
    "\n",
    "percentage_by_age = (total_count_age/Total_players) * 100\n",
    "\n",
    "age_demographics = pd.DataFrame({\"Percentage of Players\": percentage_by_age, \"Total Count\": total_count_age})\n",
    "\n",
    "age_demographics.index.name = None\n",
    "\n",
    "age_demographics.style.format({\"Percentage of Players\":\"{:,.2f}\"})"
   ]
  },
  {
   "cell_type": "markdown",
   "metadata": {},
   "source": [
    "## Purchasing Analysis (Age)"
   ]
  },
  {
   "cell_type": "markdown",
   "metadata": {},
   "source": [
    "* Bin the purchase_data data frame by age\n",
    "\n",
    "\n",
    "* Run basic calculations to obtain purchase count, avg. purchase price, avg. purchase total per person etc. in the table below\n",
    "\n",
    "\n",
    "* Create a summary data frame to hold the results\n",
    "\n",
    "\n",
    "* Optional: give the displayed data cleaner formatting\n",
    "\n",
    "\n",
    "* Display the summary data frame"
   ]
  },
  {
   "cell_type": "code",
   "execution_count": 16,
   "metadata": {},
   "outputs": [
    {
     "data": {
      "text/html": [
       "<style  type=\"text/css\" >\n",
       "</style><table id=\"T_b78a0aae_97d0_11e9_a2e7_dca2662ce228\" ><thead>    <tr>        <th class=\"blank level0\" ></th>        <th class=\"col_heading level0 col0\" >Purchase Count</th>        <th class=\"col_heading level0 col1\" >Average Purchase Price</th>        <th class=\"col_heading level0 col2\" >Total Purchase Value</th>        <th class=\"col_heading level0 col3\" >Average Purchase Total per Person</th>    </tr></thead><tbody>\n",
       "                <tr>\n",
       "                        <th id=\"T_b78a0aae_97d0_11e9_a2e7_dca2662ce228level0_row0\" class=\"row_heading level0 row0\" ><10</th>\n",
       "                        <td id=\"T_b78a0aae_97d0_11e9_a2e7_dca2662ce228row0_col0\" class=\"data row0 col0\" >23</td>\n",
       "                        <td id=\"T_b78a0aae_97d0_11e9_a2e7_dca2662ce228row0_col1\" class=\"data row0 col1\" >$3.35</td>\n",
       "                        <td id=\"T_b78a0aae_97d0_11e9_a2e7_dca2662ce228row0_col2\" class=\"data row0 col2\" >$77.13</td>\n",
       "                        <td id=\"T_b78a0aae_97d0_11e9_a2e7_dca2662ce228row0_col3\" class=\"data row0 col3\" >$4.54</td>\n",
       "            </tr>\n",
       "            <tr>\n",
       "                        <th id=\"T_b78a0aae_97d0_11e9_a2e7_dca2662ce228level0_row1\" class=\"row_heading level0 row1\" >10-14</th>\n",
       "                        <td id=\"T_b78a0aae_97d0_11e9_a2e7_dca2662ce228row1_col0\" class=\"data row1 col0\" >28</td>\n",
       "                        <td id=\"T_b78a0aae_97d0_11e9_a2e7_dca2662ce228row1_col1\" class=\"data row1 col1\" >$2.96</td>\n",
       "                        <td id=\"T_b78a0aae_97d0_11e9_a2e7_dca2662ce228row1_col2\" class=\"data row1 col2\" >$82.78</td>\n",
       "                        <td id=\"T_b78a0aae_97d0_11e9_a2e7_dca2662ce228row1_col3\" class=\"data row1 col3\" >$3.76</td>\n",
       "            </tr>\n",
       "            <tr>\n",
       "                        <th id=\"T_b78a0aae_97d0_11e9_a2e7_dca2662ce228level0_row2\" class=\"row_heading level0 row2\" >15-19</th>\n",
       "                        <td id=\"T_b78a0aae_97d0_11e9_a2e7_dca2662ce228row2_col0\" class=\"data row2 col0\" >136</td>\n",
       "                        <td id=\"T_b78a0aae_97d0_11e9_a2e7_dca2662ce228row2_col1\" class=\"data row2 col1\" >$3.04</td>\n",
       "                        <td id=\"T_b78a0aae_97d0_11e9_a2e7_dca2662ce228row2_col2\" class=\"data row2 col2\" >$412.89</td>\n",
       "                        <td id=\"T_b78a0aae_97d0_11e9_a2e7_dca2662ce228row2_col3\" class=\"data row2 col3\" >$3.86</td>\n",
       "            </tr>\n",
       "            <tr>\n",
       "                        <th id=\"T_b78a0aae_97d0_11e9_a2e7_dca2662ce228level0_row3\" class=\"row_heading level0 row3\" >20-24</th>\n",
       "                        <td id=\"T_b78a0aae_97d0_11e9_a2e7_dca2662ce228row3_col0\" class=\"data row3 col0\" >365</td>\n",
       "                        <td id=\"T_b78a0aae_97d0_11e9_a2e7_dca2662ce228row3_col1\" class=\"data row3 col1\" >$3.05</td>\n",
       "                        <td id=\"T_b78a0aae_97d0_11e9_a2e7_dca2662ce228row3_col2\" class=\"data row3 col2\" >$1,114.06</td>\n",
       "                        <td id=\"T_b78a0aae_97d0_11e9_a2e7_dca2662ce228row3_col3\" class=\"data row3 col3\" >$4.32</td>\n",
       "            </tr>\n",
       "            <tr>\n",
       "                        <th id=\"T_b78a0aae_97d0_11e9_a2e7_dca2662ce228level0_row4\" class=\"row_heading level0 row4\" >25-29</th>\n",
       "                        <td id=\"T_b78a0aae_97d0_11e9_a2e7_dca2662ce228row4_col0\" class=\"data row4 col0\" >101</td>\n",
       "                        <td id=\"T_b78a0aae_97d0_11e9_a2e7_dca2662ce228row4_col1\" class=\"data row4 col1\" >$2.90</td>\n",
       "                        <td id=\"T_b78a0aae_97d0_11e9_a2e7_dca2662ce228row4_col2\" class=\"data row4 col2\" >$293.00</td>\n",
       "                        <td id=\"T_b78a0aae_97d0_11e9_a2e7_dca2662ce228row4_col3\" class=\"data row4 col3\" >$3.81</td>\n",
       "            </tr>\n",
       "            <tr>\n",
       "                        <th id=\"T_b78a0aae_97d0_11e9_a2e7_dca2662ce228level0_row5\" class=\"row_heading level0 row5\" >30-34</th>\n",
       "                        <td id=\"T_b78a0aae_97d0_11e9_a2e7_dca2662ce228row5_col0\" class=\"data row5 col0\" >73</td>\n",
       "                        <td id=\"T_b78a0aae_97d0_11e9_a2e7_dca2662ce228row5_col1\" class=\"data row5 col1\" >$2.93</td>\n",
       "                        <td id=\"T_b78a0aae_97d0_11e9_a2e7_dca2662ce228row5_col2\" class=\"data row5 col2\" >$214.00</td>\n",
       "                        <td id=\"T_b78a0aae_97d0_11e9_a2e7_dca2662ce228row5_col3\" class=\"data row5 col3\" >$4.12</td>\n",
       "            </tr>\n",
       "            <tr>\n",
       "                        <th id=\"T_b78a0aae_97d0_11e9_a2e7_dca2662ce228level0_row6\" class=\"row_heading level0 row6\" >35-39</th>\n",
       "                        <td id=\"T_b78a0aae_97d0_11e9_a2e7_dca2662ce228row6_col0\" class=\"data row6 col0\" >41</td>\n",
       "                        <td id=\"T_b78a0aae_97d0_11e9_a2e7_dca2662ce228row6_col1\" class=\"data row6 col1\" >$3.60</td>\n",
       "                        <td id=\"T_b78a0aae_97d0_11e9_a2e7_dca2662ce228row6_col2\" class=\"data row6 col2\" >$147.67</td>\n",
       "                        <td id=\"T_b78a0aae_97d0_11e9_a2e7_dca2662ce228row6_col3\" class=\"data row6 col3\" >$4.76</td>\n",
       "            </tr>\n",
       "            <tr>\n",
       "                        <th id=\"T_b78a0aae_97d0_11e9_a2e7_dca2662ce228level0_row7\" class=\"row_heading level0 row7\" >40+</th>\n",
       "                        <td id=\"T_b78a0aae_97d0_11e9_a2e7_dca2662ce228row7_col0\" class=\"data row7 col0\" >13</td>\n",
       "                        <td id=\"T_b78a0aae_97d0_11e9_a2e7_dca2662ce228row7_col1\" class=\"data row7 col1\" >$2.94</td>\n",
       "                        <td id=\"T_b78a0aae_97d0_11e9_a2e7_dca2662ce228row7_col2\" class=\"data row7 col2\" >$38.24</td>\n",
       "                        <td id=\"T_b78a0aae_97d0_11e9_a2e7_dca2662ce228row7_col3\" class=\"data row7 col3\" >$3.19</td>\n",
       "            </tr>\n",
       "    </tbody></table>"
      ],
      "text/plain": [
       "<pandas.io.formats.style.Styler at 0x1d7f74d1908>"
      ]
     },
     "execution_count": 16,
     "metadata": {},
     "output_type": "execute_result"
    }
   ],
   "source": [
    "purchase_count_age = age_grouped[\"Purchase ID\"].count()\n",
    "\n",
    "avg_purchase_price_age = age_grouped[\"Price\"].mean()\n",
    "\n",
    "total_purchase_value = age_grouped[\"Price\"].sum()\n",
    "\n",
    "avg_purchase_per_person_age = total_purchase_value/total_count_age\n",
    "\n",
    "age_demographics = pd.DataFrame({\"Purchase Count\": purchase_count_age,\n",
    "                                 \"Average Purchase Price\": avg_purchase_price_age,\n",
    "                                 \"Total Purchase Value\":total_purchase_value,\n",
    "                                 \"Average Purchase Total per Person\": avg_purchase_per_person_age})\n",
    "age_demographics.index.name = None\n",
    "\n",
    "age_demographics.style.format({\"Average Purchase Price\":\"${:,.2f}\",\n",
    "                               \"Total Purchase Value\":\"${:,.2f}\",\n",
    "                               \"Average Purchase Total per Person\":\"${:,.2f}\"})"
   ]
  },
  {
   "cell_type": "markdown",
   "metadata": {},
   "source": [
    "## Top Spenders"
   ]
  },
  {
   "cell_type": "markdown",
   "metadata": {},
   "source": [
    "* Run basic calculations to obtain the results in the table below\n",
    "\n",
    "\n",
    "* Create a summary data frame to hold the results\n",
    "\n",
    "\n",
    "* Sort the total purchase value column in descending order\n",
    "\n",
    "\n",
    "* Optional: give the displayed data cleaner formatting\n",
    "\n",
    "\n",
    "* Display a preview of the summary data frame\n",
    "\n"
   ]
  },
  {
   "cell_type": "code",
   "execution_count": 17,
   "metadata": {},
   "outputs": [
    {
     "data": {
      "text/html": [
       "<style  type=\"text/css\" >\n",
       "</style><table id=\"T_0c12a700_97d1_11e9_8391_dca2662ce228\" ><thead>    <tr>        <th class=\"blank level0\" ></th>        <th class=\"col_heading level0 col0\" >Purchase Count</th>        <th class=\"col_heading level0 col1\" >Average Purchase Price</th>        <th class=\"col_heading level0 col2\" >Total Purchase Value</th>    </tr>    <tr>        <th class=\"index_name level0\" >SN</th>        <th class=\"blank\" ></th>        <th class=\"blank\" ></th>        <th class=\"blank\" ></th>    </tr></thead><tbody>\n",
       "                <tr>\n",
       "                        <th id=\"T_0c12a700_97d1_11e9_8391_dca2662ce228level0_row0\" class=\"row_heading level0 row0\" >Lisosia93</th>\n",
       "                        <td id=\"T_0c12a700_97d1_11e9_8391_dca2662ce228row0_col0\" class=\"data row0 col0\" >5</td>\n",
       "                        <td id=\"T_0c12a700_97d1_11e9_8391_dca2662ce228row0_col1\" class=\"data row0 col1\" >$3.79</td>\n",
       "                        <td id=\"T_0c12a700_97d1_11e9_8391_dca2662ce228row0_col2\" class=\"data row0 col2\" >$18.96</td>\n",
       "            </tr>\n",
       "            <tr>\n",
       "                        <th id=\"T_0c12a700_97d1_11e9_8391_dca2662ce228level0_row1\" class=\"row_heading level0 row1\" >Idastidru52</th>\n",
       "                        <td id=\"T_0c12a700_97d1_11e9_8391_dca2662ce228row1_col0\" class=\"data row1 col0\" >4</td>\n",
       "                        <td id=\"T_0c12a700_97d1_11e9_8391_dca2662ce228row1_col1\" class=\"data row1 col1\" >$3.86</td>\n",
       "                        <td id=\"T_0c12a700_97d1_11e9_8391_dca2662ce228row1_col2\" class=\"data row1 col2\" >$15.45</td>\n",
       "            </tr>\n",
       "            <tr>\n",
       "                        <th id=\"T_0c12a700_97d1_11e9_8391_dca2662ce228level0_row2\" class=\"row_heading level0 row2\" >Chamjask73</th>\n",
       "                        <td id=\"T_0c12a700_97d1_11e9_8391_dca2662ce228row2_col0\" class=\"data row2 col0\" >3</td>\n",
       "                        <td id=\"T_0c12a700_97d1_11e9_8391_dca2662ce228row2_col1\" class=\"data row2 col1\" >$4.61</td>\n",
       "                        <td id=\"T_0c12a700_97d1_11e9_8391_dca2662ce228row2_col2\" class=\"data row2 col2\" >$13.83</td>\n",
       "            </tr>\n",
       "            <tr>\n",
       "                        <th id=\"T_0c12a700_97d1_11e9_8391_dca2662ce228level0_row3\" class=\"row_heading level0 row3\" >Iral74</th>\n",
       "                        <td id=\"T_0c12a700_97d1_11e9_8391_dca2662ce228row3_col0\" class=\"data row3 col0\" >4</td>\n",
       "                        <td id=\"T_0c12a700_97d1_11e9_8391_dca2662ce228row3_col1\" class=\"data row3 col1\" >$3.40</td>\n",
       "                        <td id=\"T_0c12a700_97d1_11e9_8391_dca2662ce228row3_col2\" class=\"data row3 col2\" >$13.62</td>\n",
       "            </tr>\n",
       "            <tr>\n",
       "                        <th id=\"T_0c12a700_97d1_11e9_8391_dca2662ce228level0_row4\" class=\"row_heading level0 row4\" >Iskadarya95</th>\n",
       "                        <td id=\"T_0c12a700_97d1_11e9_8391_dca2662ce228row4_col0\" class=\"data row4 col0\" >3</td>\n",
       "                        <td id=\"T_0c12a700_97d1_11e9_8391_dca2662ce228row4_col1\" class=\"data row4 col1\" >$4.37</td>\n",
       "                        <td id=\"T_0c12a700_97d1_11e9_8391_dca2662ce228row4_col2\" class=\"data row4 col2\" >$13.10</td>\n",
       "            </tr>\n",
       "    </tbody></table>"
      ],
      "text/plain": [
       "<pandas.io.formats.style.Styler at 0x1d7f8209a58>"
      ]
     },
     "execution_count": 17,
     "metadata": {},
     "output_type": "execute_result"
    }
   ],
   "source": [
    "spender_stats = purchase_data.groupby(\"SN\")\n",
    "\n",
    "purchase_count_spender = spender_stats[\"Purchase ID\"].count()\n",
    "\n",
    "\n",
    "avg_purchase_price_spender = spender_stats[\"Price\"].mean()\n",
    "\n",
    "\n",
    "purchase_total_spender = spender_stats[\"Price\"].sum()\n",
    "\n",
    "\n",
    "top_spenders = pd.DataFrame({\"Purchase Count\": purchase_count_spender,\n",
    "                             \"Average Purchase Price\": avg_purchase_price_spender,\n",
    "                             \"Total Purchase Value\":purchase_total_spender})\n",
    "\n",
    " \n",
    "formatted_spenders = top_spenders.sort_values([\"Total Purchase Value\"], ascending=False).head()\n",
    "\n",
    "\n",
    "formatted_spenders.style.format({\"Average Purchase Total\":\"${:,.2f}\",\n",
    "                                 \"Average Purchase Price\":\"${:,.2f}\", \n",
    "                                 \"Total Purchase Value\":\"${:,.2f}\"})"
   ]
  },
  {
   "cell_type": "markdown",
   "metadata": {},
   "source": [
    "## Most Popular Items"
   ]
  },
  {
   "cell_type": "markdown",
   "metadata": {},
   "source": [
    "* Retrieve the Item ID, Item Name, and Item Price columns\n",
    "\n",
    "\n",
    "* Group by Item ID and Item Name. Perform calculations to obtain purchase count, item price, and total purchase value\n",
    "\n",
    "\n",
    "* Create a summary data frame to hold the results\n",
    "\n",
    "\n",
    "* Sort the purchase count column in descending order\n",
    "\n",
    "\n",
    "* Optional: give the displayed data cleaner formatting\n",
    "\n",
    "\n",
    "* Display a preview of the summary data frame\n",
    "\n"
   ]
  },
  {
   "cell_type": "code",
   "execution_count": 20,
   "metadata": {},
   "outputs": [
    {
     "data": {
      "text/html": [
       "<style  type=\"text/css\" >\n",
       "</style><table id=\"T_5cf003e6_97d1_11e9_ab85_dca2662ce228\" ><thead>    <tr>        <th class=\"blank\" ></th>        <th class=\"blank level0\" ></th>        <th class=\"col_heading level0 col0\" >Purchase Count</th>        <th class=\"col_heading level0 col1\" >Item Price</th>        <th class=\"col_heading level0 col2\" >Total Purchase Value</th>    </tr>    <tr>        <th class=\"index_name level0\" >Item ID</th>        <th class=\"index_name level1\" >Item Name</th>        <th class=\"blank\" ></th>        <th class=\"blank\" ></th>        <th class=\"blank\" ></th>    </tr></thead><tbody>\n",
       "                <tr>\n",
       "                        <th id=\"T_5cf003e6_97d1_11e9_ab85_dca2662ce228level0_row0\" class=\"row_heading level0 row0\" >178</th>\n",
       "                        <th id=\"T_5cf003e6_97d1_11e9_ab85_dca2662ce228level1_row0\" class=\"row_heading level1 row0\" >Oathbreaker, Last Hope of the Breaking Storm</th>\n",
       "                        <td id=\"T_5cf003e6_97d1_11e9_ab85_dca2662ce228row0_col0\" class=\"data row0 col0\" >12</td>\n",
       "                        <td id=\"T_5cf003e6_97d1_11e9_ab85_dca2662ce228row0_col1\" class=\"data row0 col1\" >$4.23</td>\n",
       "                        <td id=\"T_5cf003e6_97d1_11e9_ab85_dca2662ce228row0_col2\" class=\"data row0 col2\" >$50.76</td>\n",
       "            </tr>\n",
       "            <tr>\n",
       "                        <th id=\"T_5cf003e6_97d1_11e9_ab85_dca2662ce228level0_row1\" class=\"row_heading level0 row1\" >145</th>\n",
       "                        <th id=\"T_5cf003e6_97d1_11e9_ab85_dca2662ce228level1_row1\" class=\"row_heading level1 row1\" >Fiery Glass Crusader</th>\n",
       "                        <td id=\"T_5cf003e6_97d1_11e9_ab85_dca2662ce228row1_col0\" class=\"data row1 col0\" >9</td>\n",
       "                        <td id=\"T_5cf003e6_97d1_11e9_ab85_dca2662ce228row1_col1\" class=\"data row1 col1\" >$4.58</td>\n",
       "                        <td id=\"T_5cf003e6_97d1_11e9_ab85_dca2662ce228row1_col2\" class=\"data row1 col2\" >$41.22</td>\n",
       "            </tr>\n",
       "            <tr>\n",
       "                        <th id=\"T_5cf003e6_97d1_11e9_ab85_dca2662ce228level0_row2\" class=\"row_heading level0 row2\" >108</th>\n",
       "                        <th id=\"T_5cf003e6_97d1_11e9_ab85_dca2662ce228level1_row2\" class=\"row_heading level1 row2\" >Extraction, Quickblade Of Trembling Hands</th>\n",
       "                        <td id=\"T_5cf003e6_97d1_11e9_ab85_dca2662ce228row2_col0\" class=\"data row2 col0\" >9</td>\n",
       "                        <td id=\"T_5cf003e6_97d1_11e9_ab85_dca2662ce228row2_col1\" class=\"data row2 col1\" >$3.53</td>\n",
       "                        <td id=\"T_5cf003e6_97d1_11e9_ab85_dca2662ce228row2_col2\" class=\"data row2 col2\" >$31.77</td>\n",
       "            </tr>\n",
       "            <tr>\n",
       "                        <th id=\"T_5cf003e6_97d1_11e9_ab85_dca2662ce228level0_row3\" class=\"row_heading level0 row3\" >82</th>\n",
       "                        <th id=\"T_5cf003e6_97d1_11e9_ab85_dca2662ce228level1_row3\" class=\"row_heading level1 row3\" >Nirvana</th>\n",
       "                        <td id=\"T_5cf003e6_97d1_11e9_ab85_dca2662ce228row3_col0\" class=\"data row3 col0\" >9</td>\n",
       "                        <td id=\"T_5cf003e6_97d1_11e9_ab85_dca2662ce228row3_col1\" class=\"data row3 col1\" >$4.90</td>\n",
       "                        <td id=\"T_5cf003e6_97d1_11e9_ab85_dca2662ce228row3_col2\" class=\"data row3 col2\" >$44.10</td>\n",
       "            </tr>\n",
       "            <tr>\n",
       "                        <th id=\"T_5cf003e6_97d1_11e9_ab85_dca2662ce228level0_row4\" class=\"row_heading level0 row4\" >19</th>\n",
       "                        <th id=\"T_5cf003e6_97d1_11e9_ab85_dca2662ce228level1_row4\" class=\"row_heading level1 row4\" >Pursuit, Cudgel of Necromancy</th>\n",
       "                        <td id=\"T_5cf003e6_97d1_11e9_ab85_dca2662ce228row4_col0\" class=\"data row4 col0\" >8</td>\n",
       "                        <td id=\"T_5cf003e6_97d1_11e9_ab85_dca2662ce228row4_col1\" class=\"data row4 col1\" >$1.02</td>\n",
       "                        <td id=\"T_5cf003e6_97d1_11e9_ab85_dca2662ce228row4_col2\" class=\"data row4 col2\" >$8.16</td>\n",
       "            </tr>\n",
       "    </tbody></table>"
      ],
      "text/plain": [
       "<pandas.io.formats.style.Styler at 0x1d7f74e8588>"
      ]
     },
     "execution_count": 20,
     "metadata": {},
     "output_type": "execute_result"
    }
   ],
   "source": [
    "items = purchase_data[[\"Item ID\", \"Item Name\", \"Price\"]]\n",
    "\n",
    "item_stats = items.groupby([\"Item ID\",\"Item Name\"])\n",
    "\n",
    "purchase_count_item = item_stats[\"Price\"].count()\n",
    "\n",
    "purchase_value = (item_stats[\"Price\"].sum()) \n",
    "\n",
    "item_price = purchase_value/purchase_count_item\n",
    "\n",
    "most_popular_items = pd.DataFrame({\"Purchase Count\": purchase_count_item, \n",
    "                                   \"Item Price\": item_price,\n",
    "                                   \"Total Purchase Value\":purchase_value})\n",
    "\n",
    "popular_formatted = most_popular_items.sort_values([\"Purchase Count\"], ascending=False).head()\n",
    "\n",
    "popular_formatted.style.format({\"Item Price\":\"${:,.2f}\",\n",
    "                                \"Total Purchase Value\":\"${:,.2f}\"})"
   ]
  },
  {
   "cell_type": "markdown",
   "metadata": {},
   "source": [
    "## Most Profitable Items"
   ]
  },
  {
   "cell_type": "markdown",
   "metadata": {},
   "source": [
    "* Sort the above table by total purchase value in descending order\n",
    "\n",
    "\n",
    "* Optional: give the displayed data cleaner formatting\n",
    "\n",
    "\n",
    "* Display a preview of the data frame\n",
    "\n"
   ]
  },
  {
   "cell_type": "code",
   "execution_count": 21,
   "metadata": {
    "scrolled": true
   },
   "outputs": [
    {
     "data": {
      "text/html": [
       "<style  type=\"text/css\" >\n",
       "</style><table id=\"T_6427bef4_97d1_11e9_8844_dca2662ce228\" ><thead>    <tr>        <th class=\"blank\" ></th>        <th class=\"blank level0\" ></th>        <th class=\"col_heading level0 col0\" >Purchase Count</th>        <th class=\"col_heading level0 col1\" >Item Price</th>        <th class=\"col_heading level0 col2\" >Total Purchase Value</th>    </tr>    <tr>        <th class=\"index_name level0\" >Item ID</th>        <th class=\"index_name level1\" >Item Name</th>        <th class=\"blank\" ></th>        <th class=\"blank\" ></th>        <th class=\"blank\" ></th>    </tr></thead><tbody>\n",
       "                <tr>\n",
       "                        <th id=\"T_6427bef4_97d1_11e9_8844_dca2662ce228level0_row0\" class=\"row_heading level0 row0\" >178</th>\n",
       "                        <th id=\"T_6427bef4_97d1_11e9_8844_dca2662ce228level1_row0\" class=\"row_heading level1 row0\" >Oathbreaker, Last Hope of the Breaking Storm</th>\n",
       "                        <td id=\"T_6427bef4_97d1_11e9_8844_dca2662ce228row0_col0\" class=\"data row0 col0\" >12</td>\n",
       "                        <td id=\"T_6427bef4_97d1_11e9_8844_dca2662ce228row0_col1\" class=\"data row0 col1\" >$4.23</td>\n",
       "                        <td id=\"T_6427bef4_97d1_11e9_8844_dca2662ce228row0_col2\" class=\"data row0 col2\" >$50.76</td>\n",
       "            </tr>\n",
       "            <tr>\n",
       "                        <th id=\"T_6427bef4_97d1_11e9_8844_dca2662ce228level0_row1\" class=\"row_heading level0 row1\" >82</th>\n",
       "                        <th id=\"T_6427bef4_97d1_11e9_8844_dca2662ce228level1_row1\" class=\"row_heading level1 row1\" >Nirvana</th>\n",
       "                        <td id=\"T_6427bef4_97d1_11e9_8844_dca2662ce228row1_col0\" class=\"data row1 col0\" >9</td>\n",
       "                        <td id=\"T_6427bef4_97d1_11e9_8844_dca2662ce228row1_col1\" class=\"data row1 col1\" >$4.90</td>\n",
       "                        <td id=\"T_6427bef4_97d1_11e9_8844_dca2662ce228row1_col2\" class=\"data row1 col2\" >$44.10</td>\n",
       "            </tr>\n",
       "            <tr>\n",
       "                        <th id=\"T_6427bef4_97d1_11e9_8844_dca2662ce228level0_row2\" class=\"row_heading level0 row2\" >145</th>\n",
       "                        <th id=\"T_6427bef4_97d1_11e9_8844_dca2662ce228level1_row2\" class=\"row_heading level1 row2\" >Fiery Glass Crusader</th>\n",
       "                        <td id=\"T_6427bef4_97d1_11e9_8844_dca2662ce228row2_col0\" class=\"data row2 col0\" >9</td>\n",
       "                        <td id=\"T_6427bef4_97d1_11e9_8844_dca2662ce228row2_col1\" class=\"data row2 col1\" >$4.58</td>\n",
       "                        <td id=\"T_6427bef4_97d1_11e9_8844_dca2662ce228row2_col2\" class=\"data row2 col2\" >$41.22</td>\n",
       "            </tr>\n",
       "            <tr>\n",
       "                        <th id=\"T_6427bef4_97d1_11e9_8844_dca2662ce228level0_row3\" class=\"row_heading level0 row3\" >92</th>\n",
       "                        <th id=\"T_6427bef4_97d1_11e9_8844_dca2662ce228level1_row3\" class=\"row_heading level1 row3\" >Final Critic</th>\n",
       "                        <td id=\"T_6427bef4_97d1_11e9_8844_dca2662ce228row3_col0\" class=\"data row3 col0\" >8</td>\n",
       "                        <td id=\"T_6427bef4_97d1_11e9_8844_dca2662ce228row3_col1\" class=\"data row3 col1\" >$4.88</td>\n",
       "                        <td id=\"T_6427bef4_97d1_11e9_8844_dca2662ce228row3_col2\" class=\"data row3 col2\" >$39.04</td>\n",
       "            </tr>\n",
       "            <tr>\n",
       "                        <th id=\"T_6427bef4_97d1_11e9_8844_dca2662ce228level0_row4\" class=\"row_heading level0 row4\" >103</th>\n",
       "                        <th id=\"T_6427bef4_97d1_11e9_8844_dca2662ce228level1_row4\" class=\"row_heading level1 row4\" >Singed Scalpel</th>\n",
       "                        <td id=\"T_6427bef4_97d1_11e9_8844_dca2662ce228row4_col0\" class=\"data row4 col0\" >8</td>\n",
       "                        <td id=\"T_6427bef4_97d1_11e9_8844_dca2662ce228row4_col1\" class=\"data row4 col1\" >$4.35</td>\n",
       "                        <td id=\"T_6427bef4_97d1_11e9_8844_dca2662ce228row4_col2\" class=\"data row4 col2\" >$34.80</td>\n",
       "            </tr>\n",
       "    </tbody></table>"
      ],
      "text/plain": [
       "<pandas.io.formats.style.Styler at 0x1d7f7fbee48>"
      ]
     },
     "execution_count": 21,
     "metadata": {},
     "output_type": "execute_result"
    }
   ],
   "source": [
    "popular_formatted = most_popular_items.sort_values([\"Total Purchase Value\"],\n",
    "                                                   ascending=False).head()\n",
    "\n",
    "popular_formatted.style.format({\"Item Price\":\"${:,.2f}\",\n",
    "                                \"Total Purchase Value\":\"${:,.2f}\"})"
   ]
  },
  {
   "cell_type": "code",
   "execution_count": null,
   "metadata": {},
   "outputs": [],
   "source": []
  }
 ],
 "metadata": {
  "anaconda-cloud": {},
  "kernel_info": {
   "name": "python3"
  },
  "kernelspec": {
   "display_name": "Python 3",
   "language": "python",
   "name": "python3"
  },
  "language_info": {
   "codemirror_mode": {
    "name": "ipython",
    "version": 3
   },
   "file_extension": ".py",
   "mimetype": "text/x-python",
   "name": "python",
   "nbconvert_exporter": "python",
   "pygments_lexer": "ipython3",
   "version": "3.7.3"
  },
  "nteract": {
   "version": "0.2.0"
  }
 },
 "nbformat": 4,
 "nbformat_minor": 2
}
